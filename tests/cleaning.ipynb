{
 "cells": [
  {
   "cell_type": "code",
   "execution_count": 8,
   "id": "51687fac-c3e5-47f6-8c2c-6d26da3099d2",
   "metadata": {
    "tags": []
   },
   "outputs": [],
   "source": [
    "import pandas as pd\n",
    "import json"
   ]
  },
  {
   "cell_type": "code",
   "execution_count": 13,
   "id": "89cf35d7-3a41-4864-aad8-896790760620",
   "metadata": {
    "tags": []
   },
   "outputs": [],
   "source": [
    "# Replace 'path_to_file.json' with your JSON file's path\n",
    "with open('/Users/kieranshaw/audit-bill-extraction/tests/blueshield_ca_response.json', 'r') as file:\n",
    "    startTrigger = json.load(file)"
   ]
  },
  {
   "cell_type": "code",
   "execution_count": 22,
   "id": "678f1921-6021-4aaf-82c0-1b7de311b0d4",
   "metadata": {
    "tags": []
   },
   "outputs": [],
   "source": [
    "invoice_number = startTrigger[\"parsed_document\"][\"invoice_number\"][\"value\"]\n",
    "group_number = startTrigger[\"parsed_document\"][\"account_number\"][\"value\"]\n",
    "total_current_premium = startTrigger[\"parsed_document\"][\"total_current_premium\"][\"value\"]\n",
    "bill_start_date = startTrigger[\"parsed_document\"][\"billing_start_date\"][\"value\"]\n",
    "billing_end_date = startTrigger[\"parsed_document\"][\"billing_end_date\"][\"value\"]"
   ]
  },
  {
   "cell_type": "code",
   "execution_count": 61,
   "id": "b35f7081-1997-4067-90e4-f5391a04b753",
   "metadata": {
    "tags": []
   },
   "outputs": [],
   "source": [
    "import pandas as pd\n",
    "\n",
    "# Assuming 'line_items' is your original data extracted from the JSON file\n",
    "line_items = startTrigger[\"parsed_document\"][\"line_items\"]\n",
    "\n",
    "# Step 1: Extracting data from 'line_items'\n",
    "extracted_data = {}\n",
    "for column in line_items['columns']:\n",
    "    column_id = column['id']\n",
    "    column_values = []\n",
    "    for value in column['values']:\n",
    "        if value is not None and 'value' in value:\n",
    "            column_values.append(value['value'])\n",
    "        else:\n",
    "            column_values.append(None)  # Append None if the value is missing\n",
    "    extracted_data[column_id] = column_values\n",
    "\n",
    "# Creating the initial DataFrame from the extracted data\n",
    "df = pd.DataFrame(extracted_data)\n",
    "\n",
    "# Step 2: Filter out rows where employee_name is \"Subscriber Name\"\n",
    "df_filtered = df[df['employee_name'] != \"Subscriber Name\"]\n",
    "\n",
    "# Step 3: Transform the DataFrame to have a row for each employee-plan type combination\n",
    "# Melting the DataFrame to long format\n",
    "df_long = df_filtered.melt(id_vars=['employee_name', 'subscriber_id'],\n",
    "                           value_vars=['medical_premium', 'dental_premium', 'vision_premium', 'life_premium'],\n",
    "                           var_name='plan_type', value_name='rate')\n",
    "\n",
    "plan_type_mapping = {\n",
    "    'medical_premium': 'medical',\n",
    "    'dental_premium': 'dental',\n",
    "    'vision_premium': 'vision',\n",
    "    'life_premium': 'life'\n",
    "}\n",
    "\n",
    "# Convert 'rate' to a numeric type for proper comparison\n",
    "df_long['rate'] = pd.to_numeric(df_long['rate'], errors='coerce')\n",
    "\n",
    "# Step 4: Remove rows where the rate is 0\n",
    "df_long = df_long[df_long['rate'] != 0]\n",
    "\n",
    "df_long['plan_type'] = df_long['plan_type'].map(plan_type_mapping)\n",
    "df_long['status'] = 'Active'\n",
    "df_long['subscriber_id'] = df_long['subscriber_id'].astype(int)\n"
   ]
  },
  {
   "cell_type": "code",
   "execution_count": null,
   "id": "2f9f5793-258a-4cff-b17f-dc3ffc78bf99",
   "metadata": {
    "tags": []
   },
   "outputs": [],
   "source": []
  },
  {
   "cell_type": "code",
   "execution_count": null,
   "id": "8044aad3-4d75-4438-8257-e47e36188aff",
   "metadata": {
    "tags": []
   },
   "outputs": [],
   "source": []
  },
  {
   "cell_type": "code",
   "execution_count": null,
   "id": "45567ec7-185e-4528-bc00-b0bfa5142989",
   "metadata": {},
   "outputs": [],
   "source": []
  }
 ],
 "metadata": {
  "kernelspec": {
   "display_name": "Python 3 (ipykernel)",
   "language": "python",
   "name": "python3"
  },
  "language_info": {
   "codemirror_mode": {
    "name": "ipython",
    "version": 3
   },
   "file_extension": ".py",
   "mimetype": "text/x-python",
   "name": "python",
   "nbconvert_exporter": "python",
   "pygments_lexer": "ipython3",
   "version": "3.9.18"
  }
 },
 "nbformat": 4,
 "nbformat_minor": 5
}
